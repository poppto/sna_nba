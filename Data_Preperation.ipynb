{
 "cells": [
  {
   "cell_type": "code",
   "execution_count": null,
   "metadata": {},
   "outputs": [],
   "source": [
    "import pandas as pd\n",
    "import os\n",
    "import glob\n",
    "from shutil import copyfile"
   ]
  },
  {
   "cell_type": "markdown",
   "metadata": {},
   "source": [
    "## Build All"
   ]
  },
  {
   "cell_type": "code",
   "execution_count": null,
   "metadata": {
    "scrolled": true
   },
   "outputs": [],
   "source": [
    "listOfNodePaths = glob.glob(\".\\\\HOU\\\\nodes*.csv\")\n",
    "listOfPassingPaths = glob.glob(\".\\\\HOU\\\\passing*.csv\")"
   ]
  },
  {
   "cell_type": "code",
   "execution_count": null,
   "metadata": {},
   "outputs": [],
   "source": [
    "print(listOfNodePaths[0].split(\"nodes\")[1])"
   ]
  },
  {
   "cell_type": "code",
   "execution_count": null,
   "metadata": {
    "scrolled": true
   },
   "outputs": [],
   "source": [
    "def prepareData(teamAcronym):\n",
    "    try:\n",
    "        os.makedirs(\".\\\\r\" + teamAcronym + \"\\\\\")\n",
    "    except FileExistsError:\n",
    "        # directory already exists\n",
    "        pass\n",
    "\n",
    "    for link in listOfNodePaths:\n",
    "        dataName = link.split(\"nodes\")[1]\n",
    "        print(\".\\\\\" + teamAcronym + \"\\\\nodes\" + dataName)\n",
    "        print(\".\\\\\" + teamAcronym + \"\\\\passing\" + dataName)\n",
    "        linkNodes = \".\\\\\" + teamAcronym + \"\\\\nodes\" + dataName\n",
    "        linkPassing = \".\\\\\" + teamAcronym + \"\\\\passing\" + dataName\n",
    "\n",
    "        #read nodes\n",
    "        play_nodes_df = pd.read_csv(linkNodes, sep=';')\n",
    "        play_nodes_df = play_nodes_df.rename(columns={\"Unnamed: 0\": \"PID\"})\n",
    "\n",
    "\n",
    "        #read passing\n",
    "        game_df = pd.read_csv(linkPassing, sep=';')\n",
    "\n",
    "\n",
    "        #ids mappen\n",
    "        for index, row in play_nodes_df.iterrows():\n",
    "            #print(row['PID'])\n",
    "\n",
    "            game_df['PASS FROM'].loc[(game_df['PASS FROM'] == row['name'])] = row.loc['PID']\n",
    "            game_df['PASS TO'].loc[(game_df['PASS TO'] == row['name'])] = row.loc['PID']\n",
    "\n",
    "        #spalten anpassen\n",
    "        game_df = game_df[['PASS FROM', 'PASS TO', 'PASS']]\n",
    "        game_df['type'] = 'pass'\n",
    "        game_df = game_df.rename(columns={\"PASS FROM\": \"from\", \"PASS TO\": \"to\", \"PASS\": \"weight\"})\n",
    "\n",
    "        #speichern\n",
    "        game_df.to_csv(\".\\\\r\" + teamAcronym + \"\\\\passing\" + dataName, sep=';', index=False)\n",
    "        play_nodes_df = play_nodes_df.rename(columns={\"PID\": \"id\"}).to_csv(\".\\\\r\" + teamAcronym + \"\\\\nodes\" + dataName, sep=';', index=False)\n"
   ]
  },
  {
   "cell_type": "code",
   "execution_count": null,
   "metadata": {},
   "outputs": [],
   "source": [
    "teamAcronym = 'HOU'\n",
    "prepareData(teamAcronym)"
   ]
  },
  {
   "cell_type": "markdown",
   "metadata": {},
   "source": [
    "## nodes"
   ]
  },
  {
   "cell_type": "code",
   "execution_count": null,
   "metadata": {},
   "outputs": [],
   "source": [
    "play_nodes_df = pd.read_csv('.\\\\HOU\\\\nodes_1_3_2018_HOU.csv', sep=';')\n",
    "play_nodes_df = play_nodes_df.rename(columns={\"Unnamed: 0\": \"PID\"})\n"
   ]
  },
  {
   "cell_type": "code",
   "execution_count": null,
   "metadata": {},
   "outputs": [],
   "source": [
    "play_nodes_df"
   ]
  },
  {
   "cell_type": "markdown",
   "metadata": {},
   "source": [
    "### um id zu mappen"
   ]
  },
  {
   "cell_type": "code",
   "execution_count": null,
   "metadata": {},
   "outputs": [],
   "source": [
    "for index, row in play_nodes_df.iterrows():\n",
    "    #print(row['PID'])\n",
    "    \n",
    "    game_df['PASS FROM'].loc[(game_df['PASS FROM'] == row['name'])] = row.loc['PID']\n",
    "    game_df['PASS TO'].loc[(game_df['PASS TO'] == row['name'])] = row.loc['PID']\n",
    "    "
   ]
  },
  {
   "cell_type": "code",
   "execution_count": null,
   "metadata": {},
   "outputs": [],
   "source": [
    "game_df = game_df[['PASS FROM', 'PASS TO', 'PASS']]"
   ]
  },
  {
   "cell_type": "code",
   "execution_count": null,
   "metadata": {},
   "outputs": [],
   "source": [
    "game_df['type'] = 'pass'"
   ]
  },
  {
   "cell_type": "code",
   "execution_count": null,
   "metadata": {
    "scrolled": false
   },
   "outputs": [],
   "source": [
    "game_df = game_df.rename(columns={\"PASS FROM\": \"from\", \"PASS TO\": \"to\", \"PASS\": \"weight\"})"
   ]
  },
  {
   "cell_type": "code",
   "execution_count": null,
   "metadata": {
    "scrolled": true
   },
   "outputs": [],
   "source": [
    "game_df"
   ]
  },
  {
   "cell_type": "markdown",
   "metadata": {},
   "source": [
    "# Prepare Golden State"
   ]
  },
  {
   "cell_type": "code",
   "execution_count": null,
   "metadata": {},
   "outputs": [],
   "source": [
    "teamAcronym = 'GSW'"
   ]
  },
  {
   "cell_type": "markdown",
   "metadata": {},
   "source": [
    "## get data"
   ]
  },
  {
   "cell_type": "code",
   "execution_count": null,
   "metadata": {},
   "outputs": [],
   "source": [
    "listOfNodePaths = glob.glob(\".\\\\\" + teamAcronym + \"\\\\nodes*.csv\")\n",
    "listOfPassingPaths = glob.glob(\".\\\\\" + teamAcronym + \"\\\\passing*.csv\")"
   ]
  },
  {
   "cell_type": "markdown",
   "metadata": {},
   "source": [
    "## prepare passing and nodes"
   ]
  },
  {
   "cell_type": "code",
   "execution_count": null,
   "metadata": {},
   "outputs": [],
   "source": [
    "prepareData(teamAcronym)"
   ]
  },
  {
   "cell_type": "markdown",
   "metadata": {},
   "source": [
    "## copy OffRtg File"
   ]
  },
  {
   "cell_type": "code",
   "execution_count": null,
   "metadata": {},
   "outputs": [],
   "source": [
    "from shutil import copyfile\n",
    "src = \".\\\\\" + teamAcronym + \"\\\\offRtg_\" + teamAcronym + \".csv\"\n",
    "dst = \".\\\\r\" + teamAcronym + \"\\\\offRtg_\" + teamAcronym + \".csv\"\n",
    "copyfile(src, dst)"
   ]
  },
  {
   "cell_type": "markdown",
   "metadata": {},
   "source": [
    "# Prepare Suns"
   ]
  },
  {
   "cell_type": "code",
   "execution_count": null,
   "metadata": {},
   "outputs": [],
   "source": [
    "teamAcronym = 'PHX'"
   ]
  },
  {
   "cell_type": "markdown",
   "metadata": {},
   "source": [
    "## get data"
   ]
  },
  {
   "cell_type": "code",
   "execution_count": null,
   "metadata": {},
   "outputs": [],
   "source": [
    "listOfNodePaths = glob.glob(\".\\\\\" + teamAcronym + \"\\\\nodes*.csv\")\n",
    "listOfPassingPaths = glob.glob(\".\\\\\" + teamAcronym + \"\\\\passing*.csv\")"
   ]
  },
  {
   "cell_type": "markdown",
   "metadata": {},
   "source": [
    "## prepare passing and nodes"
   ]
  },
  {
   "cell_type": "code",
   "execution_count": null,
   "metadata": {},
   "outputs": [],
   "source": [
    "prepareData(teamAcronym)"
   ]
  },
  {
   "cell_type": "markdown",
   "metadata": {},
   "source": [
    "## copy OffRtg File"
   ]
  },
  {
   "cell_type": "code",
   "execution_count": null,
   "metadata": {
    "scrolled": true
   },
   "outputs": [],
   "source": [
    "src = \".\\\\\" + teamAcronym + \"\\\\offRtg_\" + teamAcronym + \".csv\"\n",
    "dst = \".\\\\r\" + teamAcronym + \"\\\\offRtg_\" + teamAcronym + \".csv\"\n",
    "copyfile(src, dst)"
   ]
  },
  {
   "cell_type": "markdown",
   "metadata": {},
   "source": [
    "# Prepare Kings"
   ]
  },
  {
   "cell_type": "code",
   "execution_count": null,
   "metadata": {},
   "outputs": [],
   "source": [
    "teamAcronym = 'SAC'"
   ]
  },
  {
   "cell_type": "markdown",
   "metadata": {},
   "source": [
    "## get data"
   ]
  },
  {
   "cell_type": "code",
   "execution_count": null,
   "metadata": {},
   "outputs": [],
   "source": [
    "listOfNodePaths = glob.glob(\".\\\\\" + teamAcronym + \"\\\\nodes*.csv\")\n",
    "listOfPassingPaths = glob.glob(\".\\\\\" + teamAcronym + \"\\\\passing*.csv\")"
   ]
  },
  {
   "cell_type": "markdown",
   "metadata": {},
   "source": [
    "## prepare passing and nodes"
   ]
  },
  {
   "cell_type": "code",
   "execution_count": null,
   "metadata": {},
   "outputs": [],
   "source": [
    "prepareData(teamAcronym)"
   ]
  },
  {
   "cell_type": "markdown",
   "metadata": {},
   "source": [
    "## copy OffRtg File"
   ]
  },
  {
   "cell_type": "code",
   "execution_count": null,
   "metadata": {
    "scrolled": true
   },
   "outputs": [],
   "source": [
    "src = \".\\\\\" + teamAcronym + \"\\\\offRtg_\" + teamAcronym + \".csv\"\n",
    "dst = \".\\\\r\" + teamAcronym + \"\\\\offRtg_\" + teamAcronym + \".csv\"\n",
    "copyfile(src, dst)"
   ]
  },
  {
   "cell_type": "markdown",
   "metadata": {},
   "source": [
    "# Prepare Kings"
   ]
  },
  {
   "cell_type": "code",
   "execution_count": null,
   "metadata": {},
   "outputs": [],
   "source": [
    "teamAcronym = 'MEM'"
   ]
  },
  {
   "cell_type": "markdown",
   "metadata": {},
   "source": [
    "## get data"
   ]
  },
  {
   "cell_type": "code",
   "execution_count": null,
   "metadata": {},
   "outputs": [],
   "source": [
    "listOfNodePaths = glob.glob(\".\\\\\" + teamAcronym + \"\\\\nodes*.csv\")\n",
    "listOfPassingPaths = glob.glob(\".\\\\\" + teamAcronym + \"\\\\passing*.csv\")"
   ]
  },
  {
   "cell_type": "markdown",
   "metadata": {},
   "source": [
    "## prepare passing and nodes"
   ]
  },
  {
   "cell_type": "code",
   "execution_count": null,
   "metadata": {
    "scrolled": true
   },
   "outputs": [],
   "source": [
    "prepareData(teamAcronym)"
   ]
  },
  {
   "cell_type": "markdown",
   "metadata": {},
   "source": [
    "## copy OffRtg File"
   ]
  },
  {
   "cell_type": "code",
   "execution_count": null,
   "metadata": {
    "scrolled": true
   },
   "outputs": [],
   "source": [
    "from shutil import copyfile\n",
    "src = \".\\\\\" + teamAcronym + \"\\\\offRtg_\" + teamAcronym + \".csv\"\n",
    "dst = \".\\\\r\" + teamAcronym + \"\\\\offRtg_\" + teamAcronym + \".csv\"\n",
    "copyfile(src, dst)"
   ]
  },
  {
   "cell_type": "code",
   "execution_count": null,
   "metadata": {},
   "outputs": [],
   "source": []
  }
 ],
 "metadata": {
  "kernelspec": {
   "display_name": "Python 3",
   "language": "python",
   "name": "python3"
  },
  "language_info": {
   "codemirror_mode": {
    "name": "ipython",
    "version": 3
   },
   "file_extension": ".py",
   "mimetype": "text/x-python",
   "name": "python",
   "nbconvert_exporter": "python",
   "pygments_lexer": "ipython3",
   "version": "3.8.3"
  }
 },
 "nbformat": 4,
 "nbformat_minor": 4
}
