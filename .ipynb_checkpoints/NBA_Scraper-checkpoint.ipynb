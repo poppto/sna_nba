{
 "cells": [
  {
   "cell_type": "code",
   "execution_count": null,
   "metadata": {},
   "outputs": [],
   "source": [
    "from selenium import webdriver\n",
    "import time\n",
    "import re\n",
    "from selenium.common.exceptions import NoSuchElementException\n",
    "import requests\n",
    "import pandas as pd\n",
    "import os\n",
    "from pathlib import Path"
   ]
  },
  {
   "cell_type": "markdown",
   "metadata": {},
   "source": [
    "# Create Folder Structure"
   ]
  },
  {
   "cell_type": "code",
   "execution_count": null,
   "metadata": {},
   "outputs": [],
   "source": [
    "try:\n",
    "    os.makedirs(\".\\\\rGSW\\\\\")\n",
    "    os.makedirs(\".\\\\rHOU\\\\\")\n",
    "    os.makedirs(\".\\\\rMEM\\\\\")\n",
    "    os.makedirs(\".\\\\rPHX\\\\\")\n",
    "    os.makedirs(\".\\\\GSW\\\\\")\n",
    "    os.makedirs(\".\\\\HOU\\\\\")\n",
    "    os.makedirs(\".\\\\MEM\\\\\")\n",
    "    os.makedirs(\".\\\\PHX\\\\\")\n",
    "except FileExistsError:\n",
    "    # directory already exists\n",
    "    pass"
   ]
  },
  {
   "cell_type": "markdown",
   "metadata": {},
   "source": [
    "# Get schedule"
   ]
  },
  {
   "cell_type": "code",
   "execution_count": null,
   "metadata": {},
   "outputs": [],
   "source": [
    "def crawlSchedule(url, rawFinds, team):\n",
    "    siteRequest = requests.get(url)\n",
    "    #print(siteRequest.text)\n",
    "\n",
    "\n",
    "    for item in re.findall(r\"(month=\\d{1,5}&amp;day=\\d{1,5}&amp;year=\\d{1,5}).+\" + team, siteRequest.text, re.MULTILINE):\n",
    "        rawFinds.append(item)\n",
    "    return rawFinds\n"
   ]
  },
  {
   "cell_type": "code",
   "execution_count": null,
   "metadata": {},
   "outputs": [],
   "source": [
    "def getScheduleForTeam(chosenTeam):\n",
    "    rawFinds = []\n",
    "    urls = ['https://www.basketball-reference.com/leagues/NBA_2018_games-october.html', \n",
    "           'https://www.basketball-reference.com/leagues/NBA_2018_games-november.html', \n",
    "           'https://www.basketball-reference.com/leagues/NBA_2018_games-december.html', \n",
    "           'https://www.basketball-reference.com/leagues/NBA_2018_games-january.html', \n",
    "           'https://www.basketball-reference.com/leagues/NBA_2018_games-february.html', \n",
    "           'https://www.basketball-reference.com/leagues/NBA_2018_games-march.html', \n",
    "           'https://www.basketball-reference.com/leagues/NBA_2018_games-april.html', \n",
    "           'https://www.basketball-reference.com/leagues/NBA_2018_games-may.html', \n",
    "           'https://www.basketball-reference.com/leagues/NBA_2018_games-june.html']\n",
    "\n",
    "    for url in urls:\n",
    "        crawlSchedule(url, rawFinds, chosenTeam)\n",
    "    \n",
    "    schedule = []\n",
    "\n",
    "    for find in rawFinds:\n",
    "        dateParts = re.findall(r\"\\d{1,4}\", find, re.MULTILINE)\n",
    "        \n",
    "        if(int(dateParts[2]) < 2018):\n",
    "            schedule.append(dateParts[2] + \"_\" + dateParts[0] + \"_\" + dateParts[1])\n",
    "            continue\n",
    "        \n",
    "        if(int(dateParts[0]) <= 4):\n",
    "            if(int(dateParts[0]) == 4):\n",
    "                if(int(dateParts[1]) > 11):\n",
    "                    continue\n",
    "        else:\n",
    "            continue\n",
    "        \n",
    "        schedule.append(dateParts[2] + \"_\" + dateParts[0] + \"_\" + dateParts[1])\n",
    "\n",
    "    return schedule"
   ]
  },
  {
   "cell_type": "markdown",
   "metadata": {},
   "source": [
    "## Get schedule for Rockets season 17/18"
   ]
  },
  {
   "cell_type": "code",
   "execution_count": null,
   "metadata": {},
   "outputs": [],
   "source": [
    "rocketsSchedule = getScheduleForTeam('Houston Rockets')\n",
    "print(rocketsSchedule)\n",
    "print(\"number of games: \" + str(len(rocketsSchedule)))"
   ]
  },
  {
   "cell_type": "markdown",
   "metadata": {},
   "source": [
    "## Get Off Rtg for schedule"
   ]
  },
  {
   "cell_type": "code",
   "execution_count": null,
   "metadata": {},
   "outputs": [],
   "source": [
    "def getOffRtg(teamNumber, schedule):\n",
    "    offRtgList = []\n",
    "    \n",
    "    for gameDate in schedule:\n",
    "        print(gameDate)\n",
    "        year = gameDate.split('_')[0]\n",
    "        month = gameDate.split('_')[1]\n",
    "        day = gameDate.split('_')[2]\n",
    "        \n",
    "        \n",
    "        url = \"https://www.nba.com/stats/team/\" + teamNumber + \"/advanced/?Season=2017-18&SeasonType=Regular%20Season&DateFrom=\" + month + \"%2F\" + day + \"%2F\" + year + \"&DateTo=\"+ month + \"%2F\" + day + \"%2F\" + year\n",
    "        \n",
    "        driver = webdriver.Chrome(\"chromedriver.exe\") #path of selenium driver\n",
    "        driver.get(url)\n",
    "        time.sleep(5)\n",
    "        \n",
    "        pageHtml = driver.page_source\n",
    "        \n",
    "        \n",
    "        findings = re.findall(r'<tr data-ng-repeat=\".+[\\n ]+<td.+[\\n \\d\\-<]+<\\/td>[\\n \\d\\-\\.]+<td[ a-zA-z=\"]{0,15}>[\\n \\d\\-\\.]+<\\/td>[\\n \\d\\-\\.]+<td[ a-zA-z=\"]{0,15}>[\\n \\d\\-\\.]+<\\/td>[\\n \\d\\-\\.]+<td[ a-zA-z=\"]{0,15}>([\\w\\.]+)', pageHtml, re.MULTILINE)\n",
    "        \n",
    "        \n",
    "        \n",
    "        if(len(findings) < 1):\n",
    "            driver.get(url)\n",
    "            time.sleep(10)\n",
    "            finding = re.findall(r'<tr data-ng-repeat=\".+[\\n ]+<td.+[\\n \\d\\-<]+<\\/td>[\\n \\d\\-\\.]+<td[ a-zA-z=\"]{0,15}>[\\n \\d\\-\\.]+<\\/td>[\\n \\d\\-\\.]+<td[ a-zA-z=\"]{0,15}>[\\n \\d\\-\\.]+<\\/td>[\\n \\d\\-\\.]+<td[ a-zA-z=\"]{0,15}>([\\w\\.]+)', pageHtml, re.MULTILINE)[0]\n",
    "        else:\n",
    "            finding = findings[0]\n",
    "        \n",
    "        pageHtml = driver.page_source\n",
    "        \n",
    "        offRtgList.append(finding)\n",
    "        \n",
    "    return offRtgList"
   ]
  },
  {
   "cell_type": "code",
   "execution_count": null,
   "metadata": {},
   "outputs": [],
   "source": [
    "offRtgListRockets = getOffRtg('1610612745', rocketsSchedule)"
   ]
  },
  {
   "cell_type": "code",
   "execution_count": null,
   "metadata": {},
   "outputs": [],
   "source": [
    "def printOffRtgToCSV(schedule, offRtgList, teamAcronym):\n",
    "    output = \"Date;OffRtg\\n\"\n",
    "    index = 0\n",
    "    \n",
    "    for gameDate in schedule:\n",
    "        output = output + gameDate + \";\" + offRtgList[index]\n",
    "        if(index < 81):\n",
    "            output = output + \"\\n\"\n",
    "        \n",
    "        index = index + 1\n",
    "        \n",
    "    with open(\".\\\\\" + teamAcronym + \"\\\\offRtg_\" + teamAcronym + \".csv\", \"w\") as text_file:\n",
    "        text_file.write(output)\n",
    "        \n",
    "        \n",
    "    print(\"csv printed\")\n",
    "    \n",
    "    "
   ]
  },
  {
   "cell_type": "code",
   "execution_count": null,
   "metadata": {},
   "outputs": [],
   "source": [
    "printOffRtgToCSV(rocketsSchedule, offRtgListRockets, \"HOU\")"
   ]
  },
  {
   "cell_type": "markdown",
   "metadata": {},
   "source": [
    "# Get list of Players for date"
   ]
  },
  {
   "cell_type": "code",
   "execution_count": null,
   "metadata": {},
   "outputs": [],
   "source": [
    "def getPlayerList(date, startPlayerNumber, teamAcronym):\n",
    "    year = date.split('_')[0]\n",
    "    month = date.split('_')[1]\n",
    "    day = date.split('_')[2]\n",
    "\n",
    "    url = 'https://www.nba.com/stats/player/' + startPlayerNumber + '/passes-dash/?Season=2017-18&SeasonType=Regular%20Season&DateFrom=' + month +'%2F' + day +'%2F' + year +'&DateTo=' + month +'%2F' + day +'%2F' + year\n",
    "\n",
    "    print(url)\n",
    "    \n",
    "    driver = webdriver.Chrome(\"chromedriver.exe\") #path of selenium driver\n",
    "    driver.get(url)\n",
    "    time.sleep(2)\n",
    "\n",
    "    pageHtml = driver.page_source # notwendig, da javascript elemente nachladet\n",
    "    #print(pageHtml)\n",
    "    \n",
    "    return list(set(re.findall(r'<a href=\"\\/stats\\/player\\/(\\w+)\\/passes-dash\\/\">[A-z, \\n\\.\\-\\']+<\\/a><\\/span><!---->[<>\\/=\"A-z, \\n\\d-]+' + teamAcronym, pageHtml, re.MULTILINE)))\n"
   ]
  },
  {
   "cell_type": "code",
   "execution_count": null,
   "metadata": {},
   "outputs": [],
   "source": [
    "def getPlayerList2(date, teamNumber):\n",
    "    year = date.split('_')[0]\n",
    "    month = date.split('_')[1]\n",
    "    day = date.split('_')[2]\n",
    "\n",
    "    url = 'https://www.nba.com/stats/team/' + teamNumber + '/players-traditional/?Season=2017-18&SeasonType=Regular%20Season&DateFrom=' + month +'%2F' + day +'%2F' + year +'&DateTo=' + month +'%2F' + day +'%2F' + year\n",
    "    \n",
    "    print(url)\n",
    "    \n",
    "    driver = webdriver.Chrome(\"C:\\\\Users\\\\Toby\\\\Documents\\\\studium\\\\MA_2\\\\SNA\\\\chromedriver.exe\")\n",
    "    driver.get(url)\n",
    "    time.sleep(4)\n",
    "\n",
    "    pageHtml = driver.page_source # notwendig, da javascript elemente nachladet\n",
    "    \n",
    "    return list(set(re.findall(r'stats\\/player\\/(\\w{3,10})\\/', pageHtml, re.MULTILINE)))"
   ]
  },
  {
   "cell_type": "code",
   "execution_count": null,
   "metadata": {},
   "outputs": [],
   "source": [
    "getPlayerList(rocketsSchedule[0], \"201935\", \"HOU\")"
   ]
  },
  {
   "cell_type": "markdown",
   "metadata": {},
   "source": [
    "## Spielerdaten abziehen / Iteration durch alle Spieler im Spiel"
   ]
  },
  {
   "cell_type": "code",
   "execution_count": null,
   "metadata": {},
   "outputs": [],
   "source": [
    "def getPassingDataForDate(date, playerNumbers, teamAcronym):    \n",
    "    outputCSV = \"PASS FROM;PASS TO;TEAM;FREQ M;PASS;AST;FGM;FGA;FG%;2FGM;2FGA;2FG%;3FGM;3FGA;3FG%\\n\"\n",
    "    year = date.split('_')[0]\n",
    "    month = date.split('_')[1]\n",
    "    day = date.split('_')[2]\n",
    "    \n",
    "    attendingPlayerList = []\n",
    "    \n",
    "    for number in playerNumbers:\n",
    "        #attendingPlayerList = []\n",
    "        driver = webdriver.Chrome(\"chromedriver.exe\") #path of selenium driver\n",
    "        driver.get('https://www.nba.com/stats/player/' + number + '/passes-dash/?Season=2017-18&SeasonType=Regular%20Season&DateFrom=' + month +'%2F' + day +'%2F' + year +'&DateTo=' + month +'%2F' + day +'%2F' + year)\n",
    "        print('https://www.nba.com/stats/player/' + number + '/passes-dash/?Season=2017-18&SeasonType=Regular%20Season&DateFrom=' + month +'%2F' + day +'%2F' + year +'&DateTo=' + month +'%2F' + day +'%2F' + year)\n",
    "        time.sleep(4)\n",
    "        \n",
    "        finds = driver.find_elements_by_xpath('/html/body/main/div/div/div/div[4]/div/div/div/div/nba-stat-table[1]/div[2]/div/table/tbody')\n",
    "        if(len(finds) <= 0):\n",
    "            finds = driver.find_elements_by_xpath('/html/body/main/div/div/div/div[4]/div/div/div/div/nba-stat-table[1]/div[2]/div[1]/table/tbody')\n",
    "            if(len(finds) <= 0):\n",
    "                finds = driver.find_elements_by_xpath('/html/body/main/div/div/div/div[4]/div/div/div/div/nba-stat-table[1]/div[2]/div[2]/table/tbody')\n",
    "                if(len(finds) <= 0):\n",
    "                    finds = driver.find_elements_by_xpath('/html/body/main/div/div/div/div[4]/div/div/div/div/nba-stat-table[1]/div[2]/div[2]/table/tbody')\n",
    "                    if(len(finds) <= 0): # keine daten in der tabelle des spielers vorhanden\n",
    "                        continue\n",
    "                        \n",
    "                    rowsOfPlayer = driver.find_element_by_xpath('/html/body/main/div/div/div/div[4]/div/div/div/div/nba-stat-table[1]/div[2]/div[1]/table/tbody')\n",
    "                else:\n",
    "                    rowsOfPlayer = driver.find_element_by_xpath('/html/body/main/div/div/div/div[4]/div/div/div/div/nba-stat-table[1]/div[2]/div[2]/table/tbody')\n",
    "            \n",
    "            else:\n",
    "                rowsOfPlayer = driver.find_element_by_xpath('/html/body/main/div/div/div/div[4]/div/div/div/div/nba-stat-table[1]/div[2]/div[1]/table/tbody')\n",
    "        else:\n",
    "            rowsOfPlayer = driver.find_element_by_xpath('/html/body/main/div/div/div/div[4]/div/div/div/div/nba-stat-table[1]/div[2]/div/table/tbody')\n",
    "\n",
    "        tbodyRip =  rowsOfPlayer.get_attribute('innerHTML')\n",
    "\n",
    "        pageHTML = driver.page_source\n",
    "\n",
    "        print(re.findall('<div class=\"stats-teamplayer-summary-text large\">\\\\n{0,10}\\\\\\\\?n? *([a-zA-Z]{1,12})', pageHTML))\n",
    "        firstName = re.findall('<div class=\"stats-teamplayer-summary-text large\">\\\\n{0,10}\\\\\\\\?n? *([a-zA-Z\\.\\- ]{1,12})', pageHTML)[0]\n",
    "        lastName = re.findall('<div class=\"stats-teamplayer-summary-text large\">\\\\n{0,10}\\\\\\\\?n? *([a-zA-Z\\.\\- ]{1,12})', pageHTML)[1]\n",
    "        outputRip = re.findall('<td>(\\d{1,4}\\.{0,1}\\d)|<td>(-)<\\/td>|>(\\w{0,7}[\\. \\w\\-\\']{1,10}\\w{0,10}, \\w{0,7}[\\. \\w\\-\\']{1,10}\\w{0,10}\\w{0,10})<\\/a>|>([A-Z]{2,4})<\\/a>|dash\\/\">([A-z ,\\.\"]{1,20})<\\/a>', tbodyRip)\n",
    "        #print(outputRip)\n",
    "        counter = 0\n",
    "\n",
    "        driver.close()\n",
    "        \n",
    "        attendingPlayerList.append(lastName + \", \" + firstName)\n",
    "\n",
    "        \n",
    "        for rip in outputRip:\n",
    "            for finding in rip:\n",
    "                if finding:\n",
    "                    #ausnahme, da namen inkonsistent auf der seite auftauchen\n",
    "                    if finding == \"Nene\":\n",
    "                        finding = \"Hilario, Nene\"\n",
    "                    if finding == \"Zhou Qi\":\n",
    "                        #print(\"here\")\n",
    "                        finding = \"Qi, Zhou\"\n",
    "                    \n",
    "                    if counter == 0:\n",
    "                        if firstName == \"Nene\":\n",
    "                            lastname = \"Hilario\"\n",
    "                        \n",
    "                        outputCSV = outputCSV + lastName + \", \" + firstName + \";\"\n",
    "                    else:\n",
    "                        outputCSV = outputCSV + \";\"\n",
    "                    \n",
    "                    if(len(re.findall(r'[A-Za-z, ]{4,30}', finding)) > 0):\n",
    "                        attendingPlayerList.append(finding)\n",
    "\n",
    "                    outputCSV = outputCSV + finding\n",
    "\n",
    "                    counter = counter + 1\n",
    "\n",
    "                    if counter == 14:\n",
    "                        outputCSV = outputCSV + \"\\n\"\n",
    "                        counter = 0\n",
    "\n",
    "        outputCSV = outputCSV + \"\\n\"\n",
    "        counter = 0\n",
    "        print(outputCSV)\n",
    "        print(\"---------------------\")\n",
    "        \n",
    "    #print data to csv\n",
    "    outputCSV = outputCSV.replace('\\n\\n', '\\n')\n",
    "    with open(\".\\\\\" + teamAcronym + \"\\\\passing_\" + date + \"_\" + teamAcronym + \".csv\", \"w\") as text_file:\n",
    "        text_file.write(outputCSV)\n",
    "        \n",
    "    #print nodes to csv\n",
    "    dfPlayerNodes = pd.DataFrame(list(set(attendingPlayerList)), columns =['name'])\n",
    "    dfPlayerNodes.to_csv(\".\\\\\" + teamAcronym + \"\\\\nodes_\" + date + \"_\" + teamAcronym + \".csv\", sep=';')\n",
    "    "
   ]
  },
  {
   "cell_type": "code",
   "execution_count": null,
   "metadata": {
    "scrolled": true
   },
   "outputs": [],
   "source": [
    "playerNumbers = []\n",
    "\n",
    "teamAcronym = 'HOU'\n",
    "\n",
    "with open(filename) as file:\n",
    "    lines = file.readlines()\n",
    "    for line in lines:\n",
    "        searchStartPlayer.append(line.replace(\"\\n\", \"\"))\n",
    "        \n",
    "searchStartPlayer = list(set(searchStartPlayer))\n",
    "\n",
    "for schedule in rocketsSchedule:\n",
    "    playerNumbers = []\n",
    "    \n",
    "    \n",
    "    playerNumbers.extend(getPlayerList2(schedule, \"1610612745\"))\n",
    "    \n",
    "    \n",
    "    \n",
    "    print(list(set(playerNumbers)))\n",
    "    #break\n",
    "    \n",
    "    getPassingDataForDate(schedule, list(set(playerNumbers)), teamAcronym)\n",
    "    \n",
    "    #break\n",
    "    skipper = True\n",
    "    "
   ]
  },
  {
   "cell_type": "code",
   "execution_count": null,
   "metadata": {},
   "outputs": [],
   "source": [
    "print(\"done\")"
   ]
  },
  {
   "cell_type": "markdown",
   "metadata": {},
   "source": [
    "# Golden State"
   ]
  },
  {
   "cell_type": "code",
   "execution_count": null,
   "metadata": {},
   "outputs": [],
   "source": [
    "teamAcronym = 'GSW'"
   ]
  },
  {
   "cell_type": "markdown",
   "metadata": {},
   "source": [
    "## Create Folder"
   ]
  },
  {
   "cell_type": "code",
   "execution_count": null,
   "metadata": {},
   "outputs": [],
   "source": [
    "Path(\".\\\\\" + teamAcronym).mkdir(parents=True, exist_ok=True)"
   ]
  },
  {
   "cell_type": "markdown",
   "metadata": {},
   "source": [
    "## Get Schedule"
   ]
  },
  {
   "cell_type": "code",
   "execution_count": null,
   "metadata": {},
   "outputs": [],
   "source": [
    "#https://www.basketball-reference.com/leagues/NBA_2018_games-october.html\n",
    "goldenStateSchedule = getScheduleForTeam('Golden State Warriors')\n",
    "print(goldenStateSchedule)\n",
    "print(\"number of games: \" + str(len(goldenStateSchedule)))"
   ]
  },
  {
   "cell_type": "markdown",
   "metadata": {},
   "source": [
    "## Get Off Rtg for schedule"
   ]
  },
  {
   "cell_type": "code",
   "execution_count": null,
   "metadata": {
    "scrolled": true
   },
   "outputs": [],
   "source": [
    "#https://www.nba.com/stats/team/1610612745/advanced/?Season=2017-18&SeasonType=Regular%20Season\n",
    "offRtgListGoldenState = getOffRtg('1610612744', goldenStateSchedule)"
   ]
  },
  {
   "cell_type": "code",
   "execution_count": null,
   "metadata": {
    "scrolled": true
   },
   "outputs": [],
   "source": [
    "offRtgListGoldenState"
   ]
  },
  {
   "cell_type": "code",
   "execution_count": null,
   "metadata": {},
   "outputs": [],
   "source": [
    "printOffRtgToCSV(goldenStateSchedule, offRtgListGoldenState, teamAcronym)"
   ]
  },
  {
   "cell_type": "markdown",
   "metadata": {},
   "source": [
    "## Spielerdaten abziehen / Iteration durch alle Spieler im Spiel"
   ]
  },
  {
   "cell_type": "code",
   "execution_count": null,
   "metadata": {},
   "outputs": [],
   "source": [
    "skipper = True\n",
    "\n",
    "playerNumbers = []\n",
    "\n",
    "\n",
    "for schedule in goldenStateSchedule:\n",
    "    playerNumbers = []\n",
    "    \n",
    "    playerNumbers.extend(getPlayerList2(schedule, \"1610612744\"))\n",
    "    \n",
    "    #break;\n",
    "    \n",
    "    print(list(set(playerNumbers)))\n",
    "    #break\n",
    "    \n",
    "    getPassingDataForDate(schedule, list(set(playerNumbers)), teamAcronym)\n",
    "    \n",
    "    #break\n",
    "    skipper = True\n",
    "    "
   ]
  },
  {
   "cell_type": "code",
   "execution_count": null,
   "metadata": {},
   "outputs": [],
   "source": [
    "print(\"done\")"
   ]
  },
  {
   "cell_type": "markdown",
   "metadata": {},
   "source": [
    "# Suns"
   ]
  },
  {
   "cell_type": "code",
   "execution_count": null,
   "metadata": {},
   "outputs": [],
   "source": [
    "teamAcronym = 'PHX'"
   ]
  },
  {
   "cell_type": "markdown",
   "metadata": {},
   "source": [
    "## Create Folder"
   ]
  },
  {
   "cell_type": "code",
   "execution_count": null,
   "metadata": {},
   "outputs": [],
   "source": [
    "Path(\".\\\\\" + teamAcronym).mkdir(parents=True, exist_ok=True)"
   ]
  },
  {
   "cell_type": "markdown",
   "metadata": {},
   "source": [
    "## Get Schedule"
   ]
  },
  {
   "cell_type": "code",
   "execution_count": null,
   "metadata": {},
   "outputs": [],
   "source": [
    "#https://www.basketball-reference.com/leagues/NBA_2018_games-october.html\n",
    "sunsSchedule = getScheduleForTeam('Phoenix Suns')\n",
    "print(sunsSchedule)\n",
    "print(\"number of games: \" + str(len(sunsSchedule)))"
   ]
  },
  {
   "cell_type": "markdown",
   "metadata": {},
   "source": [
    "## Get Off Rtg for schedule"
   ]
  },
  {
   "cell_type": "code",
   "execution_count": null,
   "metadata": {
    "scrolled": true
   },
   "outputs": [],
   "source": [
    "#https://www.nba.com/stats/team/1610612745/advanced/?Season=2017-18&SeasonType=Regular%20Season\n",
    "offRtgListSuns = getOffRtg('1610612756', sunsSchedule)"
   ]
  },
  {
   "cell_type": "code",
   "execution_count": null,
   "metadata": {
    "scrolled": true
   },
   "outputs": [],
   "source": [
    "offRtgListSuns"
   ]
  },
  {
   "cell_type": "code",
   "execution_count": null,
   "metadata": {},
   "outputs": [],
   "source": [
    "printOffRtgToCSV(sunsSchedule, offRtgListSuns, teamAcronym)"
   ]
  },
  {
   "cell_type": "markdown",
   "metadata": {},
   "source": [
    "## Spielerdaten abziehen / Iteration durch alle Spieler im Spiel"
   ]
  },
  {
   "cell_type": "code",
   "execution_count": null,
   "metadata": {},
   "outputs": [],
   "source": [
    "skipper = True\n",
    "\n",
    "playerNumbers = []\n",
    "\n",
    "\n",
    "for schedule in sunsSchedule:\n",
    "    playerNumbers = []\n",
    "    \n",
    "    playerNumbers.extend(getPlayerList2(schedule, \"1610612756\"))\n",
    "    \n",
    "    #break;\n",
    "    \n",
    "    print(list(set(playerNumbers)))\n",
    "    #break\n",
    "    \n",
    "    getPassingDataForDate(schedule, list(set(playerNumbers)), teamAcronym)\n",
    "    \n",
    "    #break\n",
    "    #skipper = True\n",
    "    "
   ]
  },
  {
   "cell_type": "markdown",
   "metadata": {},
   "source": [
    "# Kings"
   ]
  },
  {
   "cell_type": "code",
   "execution_count": null,
   "metadata": {},
   "outputs": [],
   "source": [
    "teamAcronym = 'SAC'"
   ]
  },
  {
   "cell_type": "markdown",
   "metadata": {},
   "source": [
    "## Create Folder"
   ]
  },
  {
   "cell_type": "code",
   "execution_count": null,
   "metadata": {},
   "outputs": [],
   "source": [
    "Path(\".\\\\\" + teamAcronym).mkdir(parents=True, exist_ok=True)"
   ]
  },
  {
   "cell_type": "markdown",
   "metadata": {},
   "source": [
    "## Get Schedule"
   ]
  },
  {
   "cell_type": "code",
   "execution_count": null,
   "metadata": {},
   "outputs": [],
   "source": [
    "#https://www.basketball-reference.com/leagues/NBA_2018_games-october.html\n",
    "kingsSchedule = getScheduleForTeam('Sacramento Kings')\n",
    "print(kingsSchedule)\n",
    "print(\"number of games: \" + str(len(kingsSchedule)))"
   ]
  },
  {
   "cell_type": "markdown",
   "metadata": {},
   "source": [
    "## Get Off Rtg for schedule"
   ]
  },
  {
   "cell_type": "code",
   "execution_count": null,
   "metadata": {
    "scrolled": true
   },
   "outputs": [],
   "source": [
    "#https://www.nba.com/stats/team/1610612745/advanced/?Season=2017-18&SeasonType=Regular%20Season\n",
    "offRtgListKings = getOffRtg('1610612758', kingsSchedule)"
   ]
  },
  {
   "cell_type": "code",
   "execution_count": null,
   "metadata": {
    "scrolled": true
   },
   "outputs": [],
   "source": [
    "offRtgListKings"
   ]
  },
  {
   "cell_type": "code",
   "execution_count": null,
   "metadata": {},
   "outputs": [],
   "source": [
    "printOffRtgToCSV(kingsSchedule, offRtgListKings, teamAcronym)"
   ]
  },
  {
   "cell_type": "markdown",
   "metadata": {},
   "source": [
    "## Spielerdaten abziehen / Iteration durch alle Spieler im Spiel"
   ]
  },
  {
   "cell_type": "code",
   "execution_count": null,
   "metadata": {
    "scrolled": true
   },
   "outputs": [],
   "source": [
    "skipper = True\n",
    "\n",
    "playerNumbers = []\n",
    "\n",
    "\n",
    "for schedule in kingsSchedule:\n",
    "    playerNumbers = []\n",
    "    \n",
    "    playerNumbers.extend(getPlayerList2(schedule, \"1610612758\"))\n",
    "    \n",
    "    \n",
    "    #break;\n",
    "    \n",
    "    \n",
    "    print(list(set(playerNumbers)))\n",
    "    #break\n",
    "    \n",
    "    getPassingDataForDate(schedule, list(set(playerNumbers)), teamAcronym)\n",
    "    \n",
    "    #break\n",
    "    #skipper = True\n",
    "    "
   ]
  },
  {
   "cell_type": "code",
   "execution_count": null,
   "metadata": {},
   "outputs": [],
   "source": [
    "print(\"done\")"
   ]
  },
  {
   "cell_type": "markdown",
   "metadata": {},
   "source": [
    "# Grizzlies"
   ]
  },
  {
   "cell_type": "code",
   "execution_count": null,
   "metadata": {},
   "outputs": [],
   "source": [
    "teamAcronym = 'MEM'"
   ]
  },
  {
   "cell_type": "markdown",
   "metadata": {},
   "source": [
    "## Create Folder"
   ]
  },
  {
   "cell_type": "code",
   "execution_count": null,
   "metadata": {},
   "outputs": [],
   "source": [
    "Path(\".\\\\\" + teamAcronym).mkdir(parents=True, exist_ok=True)"
   ]
  },
  {
   "cell_type": "markdown",
   "metadata": {},
   "source": [
    "## Get Schedule"
   ]
  },
  {
   "cell_type": "code",
   "execution_count": null,
   "metadata": {},
   "outputs": [],
   "source": [
    "#https://www.basketball-reference.com/leagues/NBA_2018_games-october.html\n",
    "grizzliesSchedule = getScheduleForTeam('Memphis Grizzlies')\n",
    "print(grizzliesSchedule)\n",
    "print(\"number of games: \" + str(len(grizzliesSchedule)))"
   ]
  },
  {
   "cell_type": "markdown",
   "metadata": {},
   "source": [
    "## Get Off Rtg for schedule"
   ]
  },
  {
   "cell_type": "code",
   "execution_count": null,
   "metadata": {
    "scrolled": true
   },
   "outputs": [],
   "source": [
    "#https://www.nba.com/stats/team/1610612745/advanced/?Season=2017-18&SeasonType=Regular%20Season\n",
    "offRtgListGrizzlies = getOffRtg('1610612763', grizzliesSchedule)"
   ]
  },
  {
   "cell_type": "code",
   "execution_count": null,
   "metadata": {
    "scrolled": true
   },
   "outputs": [],
   "source": [
    "offRtgListGrizzlies"
   ]
  },
  {
   "cell_type": "code",
   "execution_count": null,
   "metadata": {},
   "outputs": [],
   "source": [
    "printOffRtgToCSV(grizzliesSchedule, offRtgListGrizzlies, teamAcronym)"
   ]
  },
  {
   "cell_type": "markdown",
   "metadata": {},
   "source": [
    "## Spielerdaten abziehen / Iteration durch alle Spieler im Spiel"
   ]
  },
  {
   "cell_type": "code",
   "execution_count": null,
   "metadata": {
    "scrolled": true
   },
   "outputs": [],
   "source": [
    "skipper = True\n",
    "\n",
    "playerNumbers = []\n",
    "\n",
    "\n",
    "for schedule in grizzliesSchedule:\n",
    "    playerNumbers = []\n",
    "    \n",
    "    if schedule == '2018_3_19':\n",
    "        skipper = False\n",
    "        print(\"cur: \" + schedule)\n",
    "       \n",
    "    if skipper == True:\n",
    "        print(\"continue\")\n",
    "        continue\n",
    "        \n",
    "    playerNumbers.extend(getPlayerList2(schedule, \"1610612763\"))\n",
    "    \n",
    "    #break;\n",
    "    \n",
    "    print(list(set(playerNumbers)))\n",
    "    #break\n",
    "    \n",
    "    #break\n",
    "    getPassingDataForDate(schedule, list(set(playerNumbers)), teamAcronym)\n",
    "    \n",
    "    #break\n",
    "    #skipper = True\n",
    "    "
   ]
  },
  {
   "cell_type": "code",
   "execution_count": null,
   "metadata": {},
   "outputs": [],
   "source": [
    "print(\"done\")"
   ]
  },
  {
   "cell_type": "code",
   "execution_count": null,
   "metadata": {},
   "outputs": [],
   "source": []
  }
 ],
 "metadata": {
  "kernelspec": {
   "display_name": "Python 3",
   "language": "python",
   "name": "python3"
  },
  "language_info": {
   "codemirror_mode": {
    "name": "ipython",
    "version": 3
   },
   "file_extension": ".py",
   "mimetype": "text/x-python",
   "name": "python",
   "nbconvert_exporter": "python",
   "pygments_lexer": "ipython3",
   "version": "3.8.3"
  }
 },
 "nbformat": 4,
 "nbformat_minor": 4
}
